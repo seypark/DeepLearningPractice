{
 "cells": [
  {
   "cell_type": "markdown",
   "metadata": {},
   "source": [
    "## RNN\n",
    "\n",
    "Think about 3-layer neural net:\n",
    "\n",
    "$$s = U^T f(Wx + b)$$\n",
    "\n",
    "where $x\\in R^{20\\times1}, W \\in R^{8 \\times 20}, U \\in R^{8 \\times 1}$.\n",
    "\n",
    "we have 20 hidden units in first hidden layer, 8 hidden units in second hidden layer, 1 output s\n",
    "\n",
    "$$ s = U^T a $$\n",
    "$$ a = f(z) $$\n",
    "$$ z = Wx + b$$\n",
    "\n",
    "We have two weight matrix $W$ and $U$\n",
    "\n",
    "derivative s w.r.t $U, W, b, x$\n",
    "\n",
    "$$\\frac{\\partial s}{\\partial U} = \\frac{\\partial}{\\partial U} U^T a = a$$\n",
    "\n",
    "$$\\frac{\\partial s}{\\partial W} = \\frac{\\partial}{\\partial W} U^T f(z) = \\frac{\\partial}{\\partial W} U^T f(Wx + b)$$\n",
    "\n",
    "\n",
    "## Random initialization\n",
    "\n",
    "When we implement the feedforward function, we need to initialize parameters randomly. One effective strategy for random initialiation is to randomly select values uniformly in the range $[-\\epsilon_{init}, \\epsilon_{init}]$. For choosing $\\epsilon_{init}, we base it on the number of units feeding into the layers and the number of units of current layer.\n",
    "\n",
    "$$\\epsilon_{init} = \\frac{\\sqrt{6}}{\\sqrt{fanIn + fanOut}}$$\n",
    "\n",
    "For example, If we have 3 units of input data (say $C=3$) and each unit has 50 length vector features (say $n=50$). We, then, have 100 hidden units in the layer. $fanIn = nC = 150$, $fanOut = 100$\n",
    "\n",
    "\n",
    "\n",
    "\n"
   ]
  },
  {
   "cell_type": "code",
   "execution_count": null,
   "metadata": {
    "collapsed": true
   },
   "outputs": [],
   "source": []
  }
 ],
 "metadata": {
  "kernelspec": {
   "display_name": "Python 2",
   "language": "python",
   "name": "python2"
  },
  "language_info": {
   "codemirror_mode": {
    "name": "ipython",
    "version": 2
   },
   "file_extension": ".py",
   "mimetype": "text/x-python",
   "name": "python",
   "nbconvert_exporter": "python",
   "pygments_lexer": "ipython2",
   "version": "2.7.6"
  }
 },
 "nbformat": 4,
 "nbformat_minor": 0
}
