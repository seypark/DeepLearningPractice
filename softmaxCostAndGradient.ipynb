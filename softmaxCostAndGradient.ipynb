{
 "cells": [
  {
   "cell_type": "markdown",
   "metadata": {},
   "source": [
    "## Softmax cost and gradient\n",
    "\n",
    "In below code, $D$ is the dimesion layer. And, prediction can be computed as below\n",
    "\n",
    "$$ \\hat{y} = P(\\textrm{word_i}|r,w) = softmax(r, w_i) = \\frac{w_i^T r}{\\sum_{j}^{|V|} w_j^T r}$$\n",
    "\n",
    "The cost function is the cross entropy function,\n",
    "\n",
    "$$J(y, \\hat{y}) = -\\sum_i y_i \\log(\\hat{y}_i)$$\n",
    "\n",
    "where $y$ is the one-hot label vector, and $\\hat{y}$ is the predicted probability vector for all classes.\n"
   ]
  },
  {
   "cell_type": "code",
   "execution_count": null,
   "metadata": {
    "collapsed": true
   },
   "outputs": [],
   "source": [
    "def softmaxCostAndGradient(predicted, target, outputVectors):\n",
    "    \"\"\" Softmax cost function for word2vec models \"\"\"\n",
    "    ###################################################################\n",
    "    # Implement the cost and gradients for one predicted word vector  #\n",
    "    # and one target word vector as a building block for word2vec     #\n",
    "    # models, assuming the softmax prediction function and cross      #\n",
    "    # entropy loss.                                                   #\n",
    "    # Inputs:                                                         #\n",
    "    #   - predicted: numpy ndarray, predicted word vector (\\hat{r} in #\n",
    "    #           the written component)                                #\n",
    "    #   - target: integer, the index of the target word               #\n",
    "    #   - outputVectors: \"output\" vectors for all tokens              #\n",
    "    # Outputs:                                                        #\n",
    "    #   - cost: cross entropy cost for the softmax word prediction    #\n",
    "    #   - gradPred: the gradient with respect to the predicted word   #\n",
    "    #           vector                                                #\n",
    "    #   - grad: the gradient with respect to all the other word       # \n",
    "    #           vectors                                               #\n",
    "    # We will not provide starter code for this function, but feel    #\n",
    "    # free to reference the code you previously wrote for this        #\n",
    "    # assignment!                                                     #\n",
    "    ###################################################################\n",
    "\n",
    "    D = len(predicted) # D is 3 in example\n",
    "    # target is 1x1\n",
    "    # predicted is 1xD\n",
    "    # outputVectors VxD |V| is the number of words\n",
    "\n",
    "    r_W = np.dot(predicted, outputVectors.T) #w_j^T * r\n",
    "    r_W_softmax = softmax(r_W) # yHat\n",
    "    y_hat = r_W_softmax\n",
    "    #cross entropy loss\n",
    "    J = -np.log(y_hat[target])\n",
    "\n",
    "    gradPred = -outputVectors[target,:] + np.dot(r_W_softmax, outputVectors)\n",
    "    grad = np.tile(r_W_softmax, (D, 1)).T * predicted\n",
    "    grad[target, :] -= predicted\n",
    "\n",
    "    return cost, gradPred, grad"
   ]
  }
 ],
 "metadata": {
  "kernelspec": {
   "display_name": "Python 2",
   "language": "python",
   "name": "python2"
  },
  "language_info": {
   "codemirror_mode": {
    "name": "ipython",
    "version": 2
   },
   "file_extension": ".py",
   "mimetype": "text/x-python",
   "name": "python",
   "nbconvert_exporter": "python",
   "pygments_lexer": "ipython2",
   "version": "2.7.6"
  }
 },
 "nbformat": 4,
 "nbformat_minor": 0
}
